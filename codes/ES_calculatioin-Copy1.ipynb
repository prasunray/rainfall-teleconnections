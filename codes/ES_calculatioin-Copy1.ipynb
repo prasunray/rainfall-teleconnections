{
 "cells": [
  {
   "cell_type": "code",
   "execution_count": 24,
   "id": "1e6beb36",
   "metadata": {},
   "outputs": [],
   "source": [
    "import numpy as np\n",
    "import scipy.stats as st\n",
    "import pickle"
   ]
  },
  {
   "cell_type": "markdown",
   "id": "cfc05e87",
   "metadata": {},
   "source": [
    " ## ES Calculation\n"
   ]
  },
  {
   "cell_type": "code",
   "execution_count": 25,
   "id": "bb6d2660",
   "metadata": {},
   "outputs": [],
   "source": [
    "# load dates of EREs\n",
    "# ERE_start_days is a 400*1440 array, whose each element is a list of ERE dates of the corresponding point.\n",
    "ERE_start_days = np.load('ERE_start_days_recompute.npy', allow_pickle = True)\n",
    "\n",
    "# load threshold of ES for link construction\n",
    "threshold = np.load('trmm7_mnoe78_thresholds_005_tm10_2_y19.npy', allow_pickle = True)"
   ]
  },
  {
   "cell_type": "code",
   "execution_count": 26,
   "id": "d95ca498",
   "metadata": {},
   "outputs": [],
   "source": [
    "# the threshold is a triangular matrix, and we construct the whole matrix sig_level for efficiency in later ES calculation\n",
    "# if one point has i EREs and another point has j EREs, then the threshold of link between them is sig_level[i, j]\n",
    "sig_level = threshold + threshold.T\n",
    "for i in range(sig_level.shape[0]):\n",
    "    sig_level[i,i] /= 2"
   ]
  },
  {
   "cell_type": "code",
   "execution_count": 27,
   "id": "63b8d131",
   "metadata": {},
   "outputs": [],
   "source": [
    "def SCA_index(lat_t, lon_t):\n",
    "    # This function uses latitude and longitude to get 2d index of the data array\n",
    "    # Input latitude and longgitude: lat_t is between -50 and 50, and lon_t is between -180 and 180\n",
    "    # Output latitude index and longitude index: latindex between 0 and 400, and lonindex is between 0 and 1440\n",
    "    index = (lat_t+50)*1440*4 + (180+lon_t)*4\n",
    "    index = int(index)\n",
    "    latindex = index // 1440\n",
    "    lonindex = index % 1440\n",
    "    return np.array([latindex, lonindex])\n",
    "    "
   ]
  },
  {
   "cell_type": "code",
   "execution_count": 28,
   "id": "276be01e",
   "metadata": {},
   "outputs": [],
   "source": [
    "# get the 2d indices of the 25 points from SCA\n",
    "\n",
    "SCA_list = np.array([])\n",
    "for lat_t in [27.5, 27.75, 28., 28.25, 28.5]:\n",
    "    for lon_t in [78.5, 78.75, 79., 79.25, 79.5]:\n",
    "        SCA_list = np.concatenate((SCA_list, SCA_index(lat_t, lon_t)))\n",
    "SCA_list = SCA_list.reshape((25,2))\n",
    "SCA_list = np.array(SCA_list, dtype = 'int')"
   ]
  },
  {
   "cell_type": "code",
   "execution_count": 29,
   "id": "fa8bbf28",
   "metadata": {},
   "outputs": [],
   "source": [
    "# get the 25 lists corresponding to ERE dates of the 25 points\n",
    "\n",
    "SCA_time_series = []\n",
    "for l in SCA_list:\n",
    "    SCA_time_series.append(np.array(ERE_start_days[l[1]][l[0]]))"
   ]
  },
  {
   "cell_type": "code",
   "execution_count": 30,
   "id": "cc3b1f25",
   "metadata": {},
   "outputs": [],
   "source": [
    "# flatten ERE_start_days here for ease in later loop; \n",
    "# transpose before flatten because KDE calculation will be done with respect to grid 400*1440, while ERE_start_days is an 1440*400 array\n",
    "ERE_start_days_array_1d = (ERE_start_days.T).flatten()"
   ]
  },
  {
   "cell_type": "code",
   "execution_count": 31,
   "id": "eaddab3e",
   "metadata": {},
   "outputs": [],
   "source": [
    "def calc_ES_ij_array(day_list_i, day_list_j):\n",
    "    # Input: two lists/arrays of ERE dates\n",
    "    # Output: number of ES if ES between them is higher than the threshold; 0 otherwise (not attain the threshold)\n",
    "    ES_ij = 0\n",
    "    len_i, len_j = len(day_list_i), len(day_list_j)\n",
    "    i, j = 0, 0\n",
    "    while i < len_i and j < len_j:\n",
    "        threshold_list_i = [day_list_i[i+1]-day_list_i[i] if i < len_i-1 else np.inf, day_list_i[i]-day_list_i[i-1] if i > 0 else np.inf]\n",
    "        threshold_list_j = [day_list_j[j+1]-day_list_j[j] if j < len_j-1 else np.inf, day_list_j[j]-day_list_j[j-1] if j > 0 else np.inf]\n",
    "        tau_1 = min(min(threshold_list_i), min(threshold_list_j)) / 2\n",
    "        tau = min(tau_1, 10)  # tau_2=10\n",
    "        if abs(day_list_i[i] - day_list_j[j]) < tau:\n",
    "            ES_ij += 1\n",
    "            i += 1\n",
    "            j += 1\n",
    "        elif day_list_i[i] < day_list_j[j]:\n",
    "            i += 1\n",
    "        else:\n",
    "            j += 1\n",
    "    if ES_ij > sig_level[len_i][len_j]:\n",
    "        return ES_ij\n",
    "    else:\n",
    "        return 0"
   ]
  },
  {
   "cell_type": "code",
   "execution_count": 32,
   "id": "751aea88",
   "metadata": {},
   "outputs": [
    {
     "name": "stdout",
     "output_type": "stream",
     "text": [
      "0\n",
      "1\n",
      "2\n",
      "3\n",
      "4\n"
     ]
    }
   ],
   "source": [
    "# This cell and the following four cells are for finding the points which have significant number of ES to the SCA 25 points\n",
    "# The reason why I split the 25 points into 5 pieces is that the function np.vstack takes much time for large arrays\n",
    "# and doing calculation in 5 pieces then stacking them together takes much less time than do all 25 points together\n",
    "# These 5 cells should be done in 40 min. \n",
    "# You can run them again or just load the one we computed before, named \"SCA_links.npy\", in significant link calculation.\n",
    "SCA_links1 = np.array([0,0,0])\n",
    "for i in range(5):\n",
    "    for j in range(576000):\n",
    "        SCA_point = SCA_time_series[i]\n",
    "        world_point = ERE_start_days_array_1d[j]\n",
    "        if world_point == 0:\n",
    "            continue\n",
    "        elif len(world_point) < 3:\n",
    "            continue\n",
    "        else:\n",
    "            world_point = np.array(world_point, dtype = 'int')\n",
    "            ES_ij = calc_ES_ij_array(SCA_point, world_point) \n",
    "            if ES_ij > 0:\n",
    "                SCA_links1 = np.vstack((SCA_links1, np.array([i, j, ES_ij])))\n",
    "    print(i)"
   ]
  },
  {
   "cell_type": "code",
   "execution_count": 33,
   "id": "f565785c",
   "metadata": {},
   "outputs": [
    {
     "name": "stdout",
     "output_type": "stream",
     "text": [
      "5\n",
      "6\n",
      "7\n",
      "8\n",
      "9\n"
     ]
    }
   ],
   "source": [
    "SCA_links2 = np.array([0,0,0])\n",
    "for i in range(5, 10):\n",
    "    for j in range(576000):\n",
    "        SCA_point = SCA_time_series[i]\n",
    "        world_point = ERE_start_days_array_1d[j]\n",
    "        if world_point == 0:\n",
    "            continue\n",
    "        elif len(world_point) < 3:\n",
    "            continue\n",
    "        else:\n",
    "            world_point = np.array(world_point, dtype = 'int')\n",
    "            ES_ij = calc_ES_ij_array(SCA_point, world_point)\n",
    "            if ES_ij > 0:\n",
    "                SCA_links2 = np.vstack((SCA_links2, np.array([i, j, ES_ij])))\n",
    "    print(i)"
   ]
  },
  {
   "cell_type": "code",
   "execution_count": 34,
   "id": "63e54aa4",
   "metadata": {},
   "outputs": [
    {
     "name": "stdout",
     "output_type": "stream",
     "text": [
      "10\n",
      "11\n",
      "12\n",
      "13\n",
      "14\n"
     ]
    }
   ],
   "source": [
    "SCA_links3 = np.array([0,0,0])\n",
    "for i in range(10, 15):\n",
    "    for j in range(576000):\n",
    "        SCA_point = SCA_time_series[i]\n",
    "        world_point = ERE_start_days_array_1d[j]\n",
    "        if world_point == 0:\n",
    "            continue\n",
    "        elif len(world_point) < 3:\n",
    "            continue\n",
    "        else:\n",
    "            world_point = np.array(world_point, dtype = 'int')\n",
    "            ES_ij = calc_ES_ij_array(SCA_point, world_point)\n",
    "            if ES_ij > 0:\n",
    "                SCA_links3 = np.vstack((SCA_links3, np.array([i, j, ES_ij])))\n",
    "    print(i)"
   ]
  },
  {
   "cell_type": "code",
   "execution_count": 36,
   "id": "018c8f27",
   "metadata": {},
   "outputs": [
    {
     "name": "stdout",
     "output_type": "stream",
     "text": [
      "15\n",
      "16\n",
      "17\n",
      "18\n",
      "19\n"
     ]
    }
   ],
   "source": [
    "SCA_links4 = np.array([0,0,0])\n",
    "for i in range(15, 20):\n",
    "    for j in range(576000):\n",
    "        SCA_point = SCA_time_series[i]\n",
    "        world_point = ERE_start_days_array_1d[j]\n",
    "        if world_point == 0:\n",
    "            continue\n",
    "        elif len(world_point) < 3:\n",
    "            continue\n",
    "        else:\n",
    "            world_point = np.array(world_point, dtype = 'int')\n",
    "            ES_ij = calc_ES_ij_array(SCA_point, world_point)\n",
    "            if ES_ij > 0:\n",
    "                SCA_links4 = np.vstack((SCA_links4, np.array([i, j, ES_ij])))\n",
    "    print(i)"
   ]
  },
  {
   "cell_type": "code",
   "execution_count": 37,
   "id": "5a3d0ec8",
   "metadata": {},
   "outputs": [
    {
     "name": "stdout",
     "output_type": "stream",
     "text": [
      "20\n",
      "21\n",
      "22\n",
      "23\n",
      "24\n"
     ]
    }
   ],
   "source": [
    "SCA_links5 = np.array([0,0,0])\n",
    "for i in range(20, 25):\n",
    "    for j in range(576000):\n",
    "        SCA_point = SCA_time_series[i]\n",
    "        world_point = ERE_start_days_array_1d[j]\n",
    "        if world_point == 0:\n",
    "            continue\n",
    "        elif len(world_point) < 3:\n",
    "            continue\n",
    "        else:\n",
    "            world_point = np.array(world_point, dtype = 'int')\n",
    "            ES_ij = calc_ES_ij_array(SCA_point, world_point)\n",
    "            if ES_ij > 0:\n",
    "                SCA_links5 = np.vstack((SCA_links5, np.array([i, j, ES_ij])))\n",
    "    print(i)"
   ]
  },
  {
   "cell_type": "code",
   "execution_count": 38,
   "id": "bc61ddde",
   "metadata": {},
   "outputs": [],
   "source": [
    "SCA_links = np.vstack((SCA_links1[1:],SCA_links2[1:],SCA_links3[1:],SCA_links4[1:],SCA_links5[1:]))\n",
    "np.save('SCA_links_Ray.npy', SCA_links)"
   ]
  }
 ],
 "metadata": {
  "kernelspec": {
   "display_name": "Python 3 (ipykernel)",
   "language": "python",
   "name": "python3"
  },
  "language_info": {
   "codemirror_mode": {
    "name": "ipython",
    "version": 3
   },
   "file_extension": ".py",
   "mimetype": "text/x-python",
   "name": "python",
   "nbconvert_exporter": "python",
   "pygments_lexer": "ipython3",
   "version": "3.8.17"
  }
 },
 "nbformat": 4,
 "nbformat_minor": 5
}
