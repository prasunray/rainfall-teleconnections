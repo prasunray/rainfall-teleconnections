{
 "cells": [
  {
   "cell_type": "code",
   "execution_count": 1,
   "id": "100ee456",
   "metadata": {},
   "outputs": [
    {
     "name": "stderr",
     "output_type": "stream",
     "text": [
      "D:\\anaconda\\lib\\site-packages\\numpy\\_distributor_init.py:30: UserWarning: loaded more than 1 DLL from .libs:\n",
      "D:\\anaconda\\lib\\site-packages\\numpy\\.libs\\libopenblas.FB5AE2TYXYH2IJRDKGDGQ3XBKLKTF43H.gfortran-win_amd64.dll\n",
      "D:\\anaconda\\lib\\site-packages\\numpy\\.libs\\libopenblas64__v0.3.21-gcc_10_3_0.dll\n",
      "  warnings.warn(\"loaded more than 1 DLL from .libs:\"\n"
     ]
    }
   ],
   "source": [
    "import numpy as np\n",
    "from sklearn.neighbors import KernelDensity\n",
    "from itertools import product\n",
    "import scipy.stats as st"
   ]
  },
  {
   "cell_type": "code",
   "execution_count": 2,
   "id": "0cf80f96",
   "metadata": {},
   "outputs": [],
   "source": [
    "# load the links calculated from ES_calculation\n",
    "# links has 3 columns: \n",
    "#   the first column is an integer between 0 to 24 refer to one of the 25 points in SCA;\n",
    "#   the second column is an integer between 0 to 575999 refer to one point around the globe linked to SCA\n",
    "#   the third column is the number of ES between the two points\n",
    "links = np.load('SCA_links_corrected2.npy')"
   ]
  },
  {
   "cell_type": "code",
   "execution_count": 8,
   "id": "9cb55f6b",
   "metadata": {},
   "outputs": [],
   "source": [
    "# load the null model of KDE\n",
    "'''null_model = np.load('null_model.npy')\n",
    "mean = np.mean(null_model, axis = 0)\n",
    "std = np.std(null_model, axis = 0)\n",
    "perc90 = st.scoreatpercentile(null_model, 90, axis = 0)\n",
    "perc95 = st.scoreatpercentile(null_model, 95, axis = 0)\n",
    "perc99 = st.scoreatpercentile(null_model, 99, axis = 0)\n",
    "perc995 = st.scoreatpercentile(null_model, 99.5, axis = 0)\n",
    "perc999 = st.scoreatpercentile(null_model, 99.9, axis = 0)'''\n",
    "perc999 = np.load('KDE_null_sig0001.npy')"
   ]
  },
  {
   "cell_type": "code",
   "execution_count": 4,
   "id": "ff9d907b",
   "metadata": {},
   "outputs": [],
   "source": [
    "# randomly select 10000 links\n",
    "selector = np.zeros(links.shape[0], dtype = 'bool')\n",
    "selector[:10000] = 1\n",
    "selector = np.random.permutation(selector)\n",
    "links_selected = links[:,1][selector]"
   ]
  },
  {
   "cell_type": "code",
   "execution_count": 5,
   "id": "e2b37801",
   "metadata": {},
   "outputs": [],
   "source": [
    "# generate the grids\n",
    "lat = np.arange(-50,50,0.25)\n",
    "lon = np.arange(-180,180,0.25)\n",
    "coords = np.array(list(product(lat, lon)))\n",
    "X, Y = np.meshgrid(lon, lat)\n",
    "xy = np.vstack([Y.ravel(), X.ravel()]).T\n",
    "xy *= np.pi / 180."
   ]
  },
  {
   "cell_type": "code",
   "execution_count": 6,
   "id": "cdcc6c2b",
   "metadata": {},
   "outputs": [],
   "source": [
    "\n",
    "values = np.vstack([coords[links_selected, 0], coords[links_selected, 1]]).T\n",
    "values *= np.pi/180\n",
    "bw_opt = .2 * values.shape[0]**(-1./(2+4))"
   ]
  },
  {
   "cell_type": "code",
   "execution_count": 7,
   "id": "ca7f7f64",
   "metadata": {},
   "outputs": [],
   "source": [
    "# compute sample KDE\n",
    "kde = KernelDensity(bandwidth=bw_opt, metric='haversine', kernel='gaussian', algorithm='ball_tree')\n",
    "kde.fit(values)\n",
    "dat = np.exp(kde.score_samples(xy))\n",
    "dat = dat.reshape(X.shape)"
   ]
  },
  {
   "cell_type": "code",
   "execution_count": 18,
   "id": "d451bb96",
   "metadata": {},
   "outputs": [],
   "source": [
    "# sig_region is an array of locations at which KDE is significantly high\n",
    "sigdat = (dat > perc999)\n",
    "sigdat = sigdat.flatten()\n",
    "sig_region = np.where(sigdat)[0]"
   ]
  },
  {
   "cell_type": "code",
   "execution_count": 23,
   "id": "a0773820",
   "metadata": {},
   "outputs": [],
   "source": [
    "# sig_links is the set of significant links to SCA, a subset of links\n",
    "sig_link_row = np.where(np.in1d(links[:,1], sig_region))\n",
    "sig_links = links[sig_link_row]"
   ]
  },
  {
   "cell_type": "code",
   "execution_count": 25,
   "id": "6e9893b3",
   "metadata": {},
   "outputs": [],
   "source": [
    "np.save('SCA_sig_links.npy',sig_links)"
   ]
  },
  {
   "cell_type": "code",
   "execution_count": 27,
   "id": "ade35efa",
   "metadata": {},
   "outputs": [],
   "source": [
    "np.save('KDE_null_sig0001',perc999)"
   ]
  }
 ],
 "metadata": {
  "kernelspec": {
   "display_name": "Python 3 (ipykernel)",
   "language": "python",
   "name": "python3"
  },
  "language_info": {
   "codemirror_mode": {
    "name": "ipython",
    "version": 3
   },
   "file_extension": ".py",
   "mimetype": "text/x-python",
   "name": "python",
   "nbconvert_exporter": "python",
   "pygments_lexer": "ipython3",
   "version": "3.8.17"
  }
 },
 "nbformat": 4,
 "nbformat_minor": 5
}
